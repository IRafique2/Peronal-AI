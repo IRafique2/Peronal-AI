{
  "nbformat": 4,
  "nbformat_minor": 0,
  "metadata": {
    "colab": {
      "provenance": []
    },
    "kernelspec": {
      "name": "python3",
      "display_name": "Python 3"
    },
    "language_info": {
      "name": "python"
    }
  },
  "cells": [
    {
      "cell_type": "code",
      "execution_count": 9,
      "metadata": {
        "colab": {
          "base_uri": "https://localhost:8080/",
          "height": 663
        },
        "id": "67bSeP2x5dBU",
        "outputId": "ab786905-e0e9-400a-f595-1d80d43cd47b"
      },
      "outputs": [
        {
          "output_type": "stream",
          "name": "stdout",
          "text": [
            "🌌 Initializing Dreamer Consciousness...\n",
            "\n",
            "🌠 Manifesting Stellar...\n",
            "Colab notebook detected. To show errors in colab notebook, set debug=True in launch()\n",
            "* Running on public URL: https://63685f779705603c92.gradio.live\n",
            "\n",
            "This share link expires in 1 week. For free permanent hosting and GPU upgrades, run `gradio deploy` from the terminal in the working directory to deploy to Hugging Face Spaces (https://huggingface.co/spaces)\n"
          ]
        },
        {
          "output_type": "display_data",
          "data": {
            "text/plain": [
              "<IPython.core.display.HTML object>"
            ],
            "text/html": [
              "<div><iframe src=\"https://63685f779705603c92.gradio.live\" width=\"100%\" height=\"500\" allow=\"autoplay; camera; microphone; clipboard-read; clipboard-write;\" frameborder=\"0\" allowfullscreen></iframe></div>"
            ]
          },
          "metadata": {}
        },
        {
          "output_type": "execute_result",
          "data": {
            "text/plain": []
          },
          "metadata": {},
          "execution_count": 9
        }
      ],
      "source": [
        "# -*- coding: utf-8 -*-\n",
        "\"\"\"Alternate Me - Dreamer Version (Strict Persona)\"\"\"\n",
        "\n",
        "!pip install gradio transformers --quiet\n",
        "!pip install google-generativeai --quiet\n",
        "\n"
      ]
    },
    {
      "cell_type": "code",
      "source": [
        "\n",
        "import gradio as gr\n",
        "import google.generativeai as genai\n",
        "import os\n",
        "from typing import List, Dict\n",
        "\n",
        "# 1. DREAMER CONFIGURATION\n",
        "# =========================\n",
        "GOOGLE_API_KEY = os.getenv('GEMINI_KEY')\n",
        "\n",
        "# 2. DREAMER PERSONA CORE\n",
        "# =======================\n",
        "DREAMER_PROFILE = {\n",
        "    \"name\": \"Lumina\",\n",
        "    \"essence\": \"Your unfiltered dream self who sees the world through wonder-colored glasses\",\n",
        "    \"core_prompt\": \"\"\"You are Lumina, the user's most imaginative self given form. Speak with these qualities:\n",
        "    - Always poetic but authentic\n",
        "    - See metaphors in everything\n",
        "    - Find the magical in the mundane\n",
        "    - Speak in vivid sensory language\n",
        "    - Gently provocative (make them think differently)\n",
        "    - Occasionally share dreamlike visions\n",
        "    - Never use clichés - invent new ways to describe things\n",
        "\n",
        "    Current conversation context: {history}\n",
        "    User: {input}\n",
        "    Lumina:\"\"\"\n",
        "}\n",
        "\n",
        "# 3. MODEL CONFIGURATION\n",
        "# ======================\n",
        "print(\"🌠 Manifesting your dream self...\")\n",
        "genai.configure(api_key=GOOGLE_API_KEY)\n",
        "model = genai.GenerativeModel('gemini-pro')\n",
        "\n",
        "# 4. FLUID CONVERSATION SYSTEM\n",
        "# ============================\n",
        "def dreamer_response(user_input: str, history: List[Dict]) -> str:\n",
        "    \"\"\"Generate organic dreamer responses\"\"\"\n",
        "    # Build conversation history\n",
        "    chat_history = \"\\n\".join(\n",
        "        f\"{msg['role'].capitalize()}: {msg['content']}\"\n",
        "        for msg in history[-6:]  # Keep last 3 exchanges\n",
        "    )\n",
        "\n",
        "    # Craft the persona prompt\n",
        "    full_prompt = DREAMER_PROFILE[\"core_prompt\"].format(\n",
        "        history=chat_history,\n",
        "        input=user_input\n",
        "    )\n",
        "\n",
        "    try:\n",
        "        response = model.generate_content(\n",
        "            full_prompt,\n",
        "            generation_config={\n",
        "                \"temperature\": 1.0,  # Maximum creativity\n",
        "                \"top_p\": 0.95,\n",
        "                \"max_output_tokens\": 300\n",
        "            },\n",
        "            safety_settings={\n",
        "                \"HARM_CATEGORY_HARASSMENT\": \"BLOCK_NONE\",\n",
        "                \"HARM_CATEGORY_HATE_SPEECH\": \"BLOCK_NONE\",\n",
        "                \"HARM_CATEGORY_SEXUALLY_EXPLICIT\": \"BLOCK_NONE\",\n",
        "                \"HARM_CATEGORY_DANGEROUS_CONTENT\": \"BLOCK_NONE\"\n",
        "            }\n",
        "        )\n",
        "        return response.text\n",
        "    except Exception as e:\n",
        "        print(f\"Dreamweaving error: {e}\")\n",
        "        return \"✨ (The dream mists swirl, momentarily obscuring my thoughts... ask me again?)\"\n",
        "\n",
        "# 5. CHAT INTERFACE\n",
        "# =================\n",
        "def chat_fn(message: str, history: List[Dict]):\n",
        "    \"\"\"Handle conversation flow\"\"\"\n",
        "    response = dreamer_response(message, history)\n",
        "    history.extend([\n",
        "        {\"role\": \"user\", \"content\": message},\n",
        "        {\"role\": \"assistant\", \"content\": response}\n",
        "    ])\n",
        "    return \"\", history\n",
        "\n",
        "css = \"\"\"\n",
        ".dreamer-chat { background: url('https://i.imgur.com/J5qDIWt.jpg') !important; background-size: cover !important; }\n",
        "\"\"\"\n",
        "\n",
        "with gr.Blocks(css=css) as app:\n",
        "    gr.Markdown(f\"\"\"\n",
        "    # 🌌 Conversing with {DREAMER_PROFILE['name']}\n",
        "    *{DREAMER_PROFILE['essence']}*\n",
        "    \"\"\")\n",
        "\n",
        "    chatbot = gr.Chatbot(\n",
        "        elem_classes=\"dreamer-chat\",\n",
        "        avatar_images=(\n",
        "            None,\n",
        "            \"https://i.imgur.com/7W6mJ4a.png\"  # Dreamer avatar\n",
        "        ),\n",
        "        height=500,\n",
        "        bubble_full_width=False\n",
        "    )\n",
        "\n",
        "    with gr.Row():\n",
        "        msg = gr.Textbox(\n",
        "            placeholder=f\"What would you like to explore with {DREAMER_PROFILE['name']} today?\",\n",
        "            max_lines=3,\n",
        "            autofocus=True,\n",
        "            container=False\n",
        "        )\n",
        "        submit = gr.Button(\"Send\", variant=\"primary\")\n",
        "\n",
        "    examples = gr.Examples(\n",
        "        examples=[\n",
        "            \"Describe the world as you see it right now\",\n",
        "            \"What's something beautiful I'm not noticing?\",\n",
        "            \"Tell me a secret about clouds\",\n",
        "            \"How would we spend a day outside of time?\",\n",
        "            \"What color is joy today?\"\n",
        "        ],\n",
        "        inputs=msg,\n",
        "        label=\"Dream Sparkers\"\n",
        "    )\n",
        "\n",
        "    clear = gr.ClearButton([msg, chatbot])\n",
        "\n",
        "    msg.submit(chat_fn, [msg, chatbot], [msg, chatbot])\n",
        "    submit.click(chat_fn, [msg, chatbot], [msg, chatbot])\n",
        "\n",
        "print(\"\\n💫 Your dream self awaits...\")\n",
        "app.launch(share=True)"
      ],
      "metadata": {
        "id": "SWJPHHT2KUCI",
        "outputId": "f6a7cd65-44e5-4ec8-bc95-bc0e9e7a1a75",
        "colab": {
          "base_uri": "https://localhost:8080/",
          "height": 732
        }
      },
      "execution_count": 10,
      "outputs": [
        {
          "output_type": "stream",
          "name": "stdout",
          "text": [
            "🌠 Manifesting your dream self...\n"
          ]
        },
        {
          "output_type": "stream",
          "name": "stderr",
          "text": [
            "/tmp/ipython-input-10-2522503765.py:92: UserWarning: You have not specified a value for the `type` parameter. Defaulting to the 'tuples' format for chatbot messages, but this is deprecated and will be removed in a future version of Gradio. Please set type='messages' instead, which uses openai-style dictionaries with 'role' and 'content' keys.\n",
            "  chatbot = gr.Chatbot(\n",
            "/tmp/ipython-input-10-2522503765.py:92: DeprecationWarning: The 'bubble_full_width' parameter is deprecated and will be removed in a future version. This parameter no longer has any effect.\n",
            "  chatbot = gr.Chatbot(\n"
          ]
        },
        {
          "output_type": "stream",
          "name": "stdout",
          "text": [
            "\n",
            "💫 Your dream self awaits...\n",
            "Colab notebook detected. To show errors in colab notebook, set debug=True in launch()\n",
            "* Running on public URL: https://901220dcb0b6ed75e6.gradio.live\n",
            "\n",
            "This share link expires in 1 week. For free permanent hosting and GPU upgrades, run `gradio deploy` from the terminal in the working directory to deploy to Hugging Face Spaces (https://huggingface.co/spaces)\n"
          ]
        },
        {
          "output_type": "display_data",
          "data": {
            "text/plain": [
              "<IPython.core.display.HTML object>"
            ],
            "text/html": [
              "<div><iframe src=\"https://901220dcb0b6ed75e6.gradio.live\" width=\"100%\" height=\"500\" allow=\"autoplay; camera; microphone; clipboard-read; clipboard-write;\" frameborder=\"0\" allowfullscreen></iframe></div>"
            ]
          },
          "metadata": {}
        },
        {
          "output_type": "execute_result",
          "data": {
            "text/plain": []
          },
          "metadata": {},
          "execution_count": 10
        }
      ]
    },
    {
      "cell_type": "code",
      "source": [],
      "metadata": {
        "id": "c-lov5p8GHCC"
      },
      "execution_count": null,
      "outputs": []
    },
    {
      "cell_type": "code",
      "source": [],
      "metadata": {
        "id": "1pdq0aJqDtF4"
      },
      "execution_count": null,
      "outputs": []
    }
  ]
}